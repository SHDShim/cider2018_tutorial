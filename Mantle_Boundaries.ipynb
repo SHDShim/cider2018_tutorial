{
 "cells": [
  {
   "cell_type": "code",
   "execution_count": 1,
   "metadata": {
    "collapsed": false
   },
   "outputs": [],
   "source": [
    "%matplotlib inline\n",
    "%config InlineBackend.figure_format = 'retina'"
   ]
  },
  {
   "cell_type": "markdown",
   "metadata": {},
   "source": [
    "# 0. General note"
   ]
  },
  {
   "cell_type": "markdown",
   "metadata": {},
   "source": [
    "* This notebook produces figures and calculations presented in [Ye et al. 2017, JGR](https://agupubs.onlinelibrary.wiley.com/doi/abs/10.1002/2016JB013811).\n",
    "\n",
    "* This notebook demonstrates how to correct pressure scales for the existing phase boundary data."
   ]
  },
  {
   "cell_type": "markdown",
   "metadata": {},
   "source": [
    "# 1. Global setup"
   ]
  },
  {
   "cell_type": "code",
   "execution_count": 2,
   "metadata": {
    "collapsed": false
   },
   "outputs": [],
   "source": [
    "import matplotlib.pyplot as plt\n",
    "import numpy as np\n",
    "from uncertainties import unumpy as unp\n",
    "import pytheos as eos"
   ]
  },
  {
   "cell_type": "markdown",
   "metadata": {},
   "source": [
    "# 2. Pressure calculations for PPv"
   ]
  },
  {
   "cell_type": "markdown",
   "metadata": {},
   "source": [
    "* Data from Tateno2009\n",
    "\n",
    "T (K) | Au-Tsuchiya | Pt-Holmes | MgO-Speziale\n",
    "------|-------------|-----------|--------------\n",
    "3500  | 120.4       | 137.7     | 135.6\n",
    "2000  | 110.5       | 126.8     | 115.8\n",
    "\n",
    "* Dorogokupets2007\n",
    "\n",
    "T (K) | Au          | Pt        | MgO   \n",
    "------|-------------|-----------|--------------\n",
    "3500  | 119.7       | 135.2     | 129.6\n",
    "2000  | 108.9       | 123.2     | 113.2\n",
    "\n",
    "<b>\n",
    "* In conclusion, PPV boundary discrepancy is not likely due to pressure scale problem.\n",
    "</b>"
   ]
  },
  {
   "cell_type": "code",
   "execution_count": 3,
   "metadata": {
    "collapsed": true
   },
   "outputs": [],
   "source": [
    "t_ppv = np.asarray([3500., 2000.])"
   ]
  },
  {
   "cell_type": "code",
   "execution_count": 4,
   "metadata": {
    "collapsed": false
   },
   "outputs": [
    {
     "name": "stdout",
     "output_type": "stream",
     "text": [
      "[120.4394917114189+/-0.009819156315686408\n",
      " 110.4900924018267+/-0.009709312775041275] [119.7228389957068+/-0.009397458639736574\n",
      " 108.86638382366034+/-0.009303587653953853]\n",
      "slopes:  0.00663293+/-0.00000019 0.00723764+/-0.00000010\n"
     ]
    }
   ],
   "source": [
    "Au_T = eos.gold.Tsuchiya2003()\n",
    "Au_D = eos.gold.Dorogokupets2007()\n",
    "\n",
    "v = np.asarray([51.58,51.7])\n",
    "p_Au_T_ppv = Au_T.cal_p(v, t_ppv)\n",
    "p_Au_D_ppv = Au_D.cal_p(v, t_ppv)\n",
    "print(p_Au_T_ppv, p_Au_D_ppv)\n",
    "print('slopes: ', (p_Au_T_ppv[0]-p_Au_T_ppv[1])/(t_ppv[0]-t_ppv[1]),\\\n",
    "      (p_Au_D_ppv[0]-p_Au_D_ppv[1])/(t_ppv[0]-t_ppv[1]) )"
   ]
  },
  {
   "cell_type": "code",
   "execution_count": 5,
   "metadata": {
    "collapsed": false
   },
   "outputs": [
    {
     "name": "stdout",
     "output_type": "stream",
     "text": [
      "[137.6555991946231+/-0.013599646548263514\n",
      " 126.72997767244723+/-0.013563105650520829] [135.2453540348088+/-0.01256394315079498\n",
      " 123.20614456480777+/-0.012523012644444907]\n",
      "slopes:  0.007283748+/-0.000000024 0.00802614+/-0.00000024\n"
     ]
    }
   ],
   "source": [
    "Pt_H = eos.platinum.Holmes1989()\n",
    "Pt_D = eos.platinum.Dorogokupets2007()\n",
    "\n",
    "v = np.asarray([48.06, 48.09])\n",
    "p_Pt_H_ppv = Pt_H.cal_p(v, t_ppv)\n",
    "p_Pt_D_ppv = Pt_D.cal_p(v, t_ppv)\n",
    "print(p_Pt_H_ppv, p_Pt_D_ppv)\n",
    "print('slopes: ', (p_Pt_H_ppv[0]-p_Pt_H_ppv[1])/(t_ppv[0]-t_ppv[1]),\\\n",
    "      (p_Pt_D_ppv[0]-p_Pt_D_ppv[1])/(t_ppv[0]-t_ppv[1]) )"
   ]
  },
  {
   "cell_type": "code",
   "execution_count": 6,
   "metadata": {
    "collapsed": false
   },
   "outputs": [
    {
     "name": "stdout",
     "output_type": "stream",
     "text": [
      "[135.56997269894586+/-0.9530902142955003\n",
      " 115.8281642808288+/-0.49022460541552476] [129.57114762303976+/-0.0071388388100554765\n",
      " 113.23868528253495+/-0.006849434801332905]\n",
      "slopes:  0.01316+/-0.00032 0.01088831+/-0.00000020\n"
     ]
    }
   ],
   "source": [
    "MgO_S = eos.periclase.Speziale2001()\n",
    "MgO_D = eos.periclase.Dorogokupets2007()\n",
    "\n",
    "v = np.asarray([52.87, 53.6])\n",
    "p_MgO_S_ppv = MgO_S.cal_p(v, t_ppv)\n",
    "p_MgO_D_ppv = MgO_D.cal_p(v, t_ppv)\n",
    "print(p_MgO_S_ppv, p_MgO_D_ppv)\n",
    "print('slopes: ', (p_MgO_S_ppv[0]-p_MgO_S_ppv[1])/(t_ppv[0]-t_ppv[1]), \\\n",
    "      (p_MgO_D_ppv[0]-p_MgO_D_ppv[1])/(t_ppv[0]-t_ppv[1]) )"
   ]
  },
  {
   "cell_type": "markdown",
   "metadata": {},
   "source": [
    "# 3. Post-spinel"
   ]
  },
  {
   "cell_type": "markdown",
   "metadata": {},
   "source": [
    "Fei2004\n",
    "\n",
    "Scales|  PT        |  PT \n",
    "------|------------|------------\n",
    "MgO-S | 23.6, 1573 | 22.8, 2173\n",
    "MgO-D | 23.1, 1573 | 22.0, 2173\n",
    "\n",
    "Ye2014\n",
    "\n",
    "Scales | PT         | PT\n",
    "-------|------------|------------\n",
    "Pt-F   | 25.2, 1550 | 23.2, 2380\n",
    "Pt-D   | 24.6, 1550 | 22.5, 2380 \n",
    "Au-F   | 28.3, 1650 | 27.1, 2150\n",
    "Au-D   | 27.0, 1650 | 25.6, 2150"
   ]
  },
  {
   "cell_type": "code",
   "execution_count": 7,
   "metadata": {
    "collapsed": false
   },
   "outputs": [
    {
     "name": "stdout",
     "output_type": "stream",
     "text": [
      "[23.64022290732067+/-0.22706825547643575\n",
      " 22.87853717791088+/-0.3102166053839235] [23.137126505601984+/-0.0029845506738880247\n",
      " 21.993704969833033+/-0.0027476972864245606]\n",
      "slopes:  -0.00127+/-0.00015 -0.0019057+/-0.0000004\n"
     ]
    }
   ],
   "source": [
    "MgO_S = eos.periclase.Speziale2001()\n",
    "MgO_D = eos.periclase.Dorogokupets2007()\n",
    "\n",
    "v = np.asarray([68.75, 70.3])\n",
    "t_MgO = np.asarray([1573.,2173.])\n",
    "p_MgO_S = MgO_S.cal_p(v, t_MgO)\n",
    "p_MgO_D = MgO_D.cal_p(v, t_MgO)\n",
    "print(p_MgO_S, p_MgO_D)\n",
    "print('slopes: ', (p_MgO_S[0]-p_MgO_S[1])/(t_MgO[0]-t_MgO[1]), (p_MgO_D[0]-p_MgO_D[1])/(t_MgO[0]-t_MgO[1]) )"
   ]
  },
  {
   "cell_type": "code",
   "execution_count": 8,
   "metadata": {
    "collapsed": false
   },
   "outputs": [
    {
     "name": "stdout",
     "output_type": "stream",
     "text": [
      "[25.200649645974792+/-0.25969718379544227\n",
      " 23.230785354652753+/-0.2648410029437544] [24.59913157550942+/-0.005887323086638988\n",
      " 22.499791438857738+/-0.0052772503634970006]\n",
      "slopes:  -0.00237+/-0.00009 -0.0025293+/-0.0000009\n"
     ]
    }
   ],
   "source": [
    "Pt_F = eos.platinum.Fei2007bm3()\n",
    "Pt_D = eos.platinum.Dorogokupets2007()\n",
    "\n",
    "v = np.asarray([57.43, 58.85])\n",
    "t_Pt = np.asarray([1550., 2380.])\n",
    "p_Pt_F = Pt_F.cal_p(v, t_Pt)\n",
    "p_Pt_D = Pt_D.cal_p(v, t_Pt)\n",
    "print(p_Pt_F, p_Pt_D)\n",
    "print('slopes: ', (p_Pt_F[0]-p_Pt_F[1])/(t_Pt[0]-t_Pt[1]), (p_Pt_D[0]-p_Pt_D[1])/(t_Pt[0]-t_Pt[1]) )"
   ]
  },
  {
   "cell_type": "code",
   "execution_count": 9,
   "metadata": {
    "collapsed": false
   },
   "outputs": [
    {
     "name": "stdout",
     "output_type": "stream",
     "text": [
      "[28.16271932337142+/-0.2760383097641682\n",
      " 26.998871383434775+/-0.30416857634961575] [26.971967227663487+/-0.003928755274354221\n",
      " 25.587752685336014+/-0.003565439028788304]\n",
      "slopes:  -0.00233+/-0.00008 -0.0027684+/-0.0000008\n"
     ]
    }
   ],
   "source": [
    "Au_F = eos.gold.Fei2007bm3()\n",
    "Au_D = eos.gold.Dorogokupets2007()\n",
    "\n",
    "v = np.asarray([62.33,63.53])\n",
    "t_Au = np.asarray([1650., 2150.])\n",
    "p_Au_F = Au_F.cal_p(v, t_Au)\n",
    "p_Au_D = Au_D.cal_p(v, t_Au)\n",
    "print(p_Au_F, p_Au_D)\n",
    "print('slopes: ', (p_Au_F[0]-p_Au_F[1])/(t_Au[0]-t_Au[1]), (p_Au_D[0]-p_Au_D[1])/(t_Au[0]-t_Au[1]) )"
   ]
  },
  {
   "cell_type": "code",
   "execution_count": 10,
   "metadata": {
    "collapsed": false
   },
   "outputs": [
    {
     "data": {
      "image/png": "[encoded data removed]",
      "text/plain": [
       "<Figure size 720x252 with 2 Axes>"
      ]
     },
     "metadata": {},
     "output_type": "display_data"
    }
   ],
   "source": [
    "f, (ax1, ax2) = plt.subplots(1, 2, figsize=(10,3.5))\n",
    "#ax.plot(unp.nominal_values(p_Au_T), t, c='b', ls='--', label='Au-Tsuchiya')\n",
    "lw = 4\n",
    "l_alpha = 0.3\n",
    "\n",
    "ax1.plot(unp.nominal_values(p_Au_D), t_Au, c='b', ls='-', alpha=l_alpha, label='Au-D07', lw=lw)\n",
    "ax1.annotate('Au-D07', xy=(25.7, 2100), xycoords='data',\n",
    "            xytext=(26.9, 2100), textcoords='data',\n",
    "            arrowprops=dict(facecolor='k', alpha=0.5, shrink=1, width = 0.1, headwidth=5),\n",
    "            horizontalalignment='right', verticalalignment='center')\n",
    "\n",
    "ax1.plot(unp.nominal_values(p_Au_D-2.5), t_Au, c='b', ls='-', label='Au-mD07', lw=lw)\n",
    "ax1.annotate('Au-D07,\\n corrected', xy=(24.35, 1700), xycoords='data',\n",
    "            xytext=(24.8, 1700), textcoords='data',\n",
    "            arrowprops=dict(facecolor='k', alpha=0.5, shrink=1, width = 0.1, headwidth=5),\n",
    "            horizontalalignment='left', verticalalignment='center')\n",
    "\n",
    "#ax.plot(unp.nominal_values(p_Pt_H), t, c='r', ls='--', label='Pt-Holmes')\n",
    "ax1.plot(unp.nominal_values(p_Pt_D), t_Pt, c='r', ls='-', label='Pt-D07', lw=lw)\n",
    "ax1.annotate('Pt-D07', xy=(22.7, 2300), xycoords='data',\n",
    "            xytext=(23.1, 2300), textcoords='data',\n",
    "            arrowprops=dict(facecolor='k', alpha=0.5, shrink=1, width = 0.1, headwidth=5),\n",
    "            horizontalalignment='left', verticalalignment='center')\n",
    "\n",
    "ax1.plot(unp.nominal_values(p_MgO_S), t_MgO, c='k', ls='-', alpha=l_alpha, label='MgO-S01', lw=lw)\n",
    "ax1.annotate('MgO-S01', xy=(22.9, 2150), xycoords='data',\n",
    "            xytext=(22.5, 2250), textcoords='data',\n",
    "            arrowprops=dict(facecolor='k', alpha=0.5, shrink=1, width = 0.1, headwidth=5),\n",
    "            horizontalalignment='right', verticalalignment='top')\n",
    "\n",
    "ax1.plot(unp.nominal_values(p_MgO_D), t_MgO, c='k', ls='-', label='MgO-D07', lw=lw)\n",
    "ax1.annotate('MgO-D07', xy=(22.7, 1800), xycoords='data',\n",
    "            xytext=(22.3, 1800), textcoords='data',\n",
    "            arrowprops=dict(facecolor='k', alpha=0.5, shrink=1, width = 0.1, headwidth=5),\n",
    "            horizontalalignment='right', verticalalignment='center')\n",
    "\n",
    "ax1.fill([23.5,24,24,23.5], [1700,1700,2000,2000], 'k', alpha=0.2)\n",
    "\n",
    "ax1.set_xlabel(\"Pressure (GPa)\"); ax1.set_ylabel(\"Temperature (K)\")\n",
    "#l = ax1.legend(loc=3, fontsize=10, handlelength=2.5); l.get_frame().set_linewidth(0.5)\n",
    "\n",
    "ax2.plot(unp.nominal_values(p_Au_T_ppv), t_ppv, c='b', ls='-', alpha=l_alpha, label='Au-T04', lw=lw)\n",
    "ax2.annotate('Au-T04', xy=(120, 3400), xycoords='data',\n",
    "            xytext=(122, 3400), textcoords='data',\n",
    "            arrowprops=dict(facecolor='k', alpha=0.5, shrink=1, width = 0.1, headwidth=5),\n",
    "            horizontalalignment='left', verticalalignment='center')\n",
    "\n",
    "ax2.plot(unp.nominal_values(p_Au_D_ppv), t_ppv, c='b', ls='-', label='Au-D07', lw=lw)\n",
    "ax2.annotate('Au-D07', xy=(119, 3400), xycoords='data',\n",
    "            xytext=(117, 3400), textcoords='data',\n",
    "            arrowprops=dict(facecolor='k', alpha=0.5, shrink=1, width = 0.1, headwidth=5),\n",
    "            horizontalalignment='right', verticalalignment='center')\n",
    "\n",
    "ax2.plot(unp.nominal_values(p_Pt_H_ppv), t_ppv, c='r', ls='-', alpha=l_alpha, label='Pt-H89', lw=lw)\n",
    "ax2.annotate('Pt-H89', xy=(129, 2300), xycoords='data',\n",
    "            xytext=(132, 2300), textcoords='data',\n",
    "            arrowprops=dict(facecolor='k', alpha=0.5, shrink=1, width = 0.1, headwidth=5),\n",
    "            horizontalalignment='left', verticalalignment='center')\n",
    "\n",
    "ax2.plot(unp.nominal_values(p_Pt_D_ppv), t_ppv, c='r', ls='-', label='Pt-D07', lw=lw)\n",
    "ax2.annotate('Pt-D07', xy=(124, 2150), xycoords='data',\n",
    "            xytext=(123.7, 2300), textcoords='data',\n",
    "            arrowprops=dict(facecolor='k', alpha=0.5, shrink=1, width = 0.1, headwidth=5),\n",
    "            horizontalalignment='center', verticalalignment='bottom')\n",
    "\n",
    "ax2.plot(unp.nominal_values(p_MgO_S_ppv), t_ppv, c='k', ls='-', alpha=l_alpha, label='MgO-S01', lw=lw)\n",
    "ax2.annotate('MgO-S01', xy=(132, 3250), xycoords='data',\n",
    "            xytext=(132.2, 3550), textcoords='data',\n",
    "            arrowprops=dict(facecolor='k', alpha=0.5, shrink=1, width = 0.1, headwidth=5),\n",
    "            horizontalalignment='left', verticalalignment='bottom')\n",
    "\n",
    "ax2.plot(unp.nominal_values(p_MgO_D_ppv), t_ppv, c='k', ls='-', label='MgO-D07', lw=lw)\n",
    "ax2.annotate('MgO-D07', xy=(128, 3400), xycoords='data',\n",
    "            xytext=(128, 3550), textcoords='data',\n",
    "            arrowprops=dict(facecolor='k', alpha=0.5, shrink=1, width = 0.1, headwidth=5),\n",
    "            horizontalalignment='center', verticalalignment='bottom')\n",
    "\n",
    "ax2.set_xlabel(\"Pressure (GPa)\"); ax2.set_ylabel(\"Temperature (K)\")\n",
    "ax2.set_ylim(1900, 3700.)\n",
    "#l = ax2.legend(loc=0, fontsize=10, handlelength=2.5); l.get_frame().set_linewidth(0.5)\n",
    "\n",
    "ax1.text(0.05, 0.03, 'a', horizontalalignment='center',\\\n",
    "            verticalalignment='bottom', transform = ax1.transAxes,\\\n",
    "              fontsize = 32)\n",
    "ax2.text(0.05, 0.03, 'b', horizontalalignment='center',\\\n",
    "            verticalalignment='bottom', transform = ax2.transAxes,\\\n",
    "              fontsize = 32)\n",
    "\n",
    "ax1.set_yticks(ax1.get_yticks()[::2])\n",
    "#ax2.set_yticks(ax2.get_yticks()[::2])\n",
    "plt.tight_layout(pad=0.6)\n",
    "\n",
    "plt.savefig('f-boundaries.pdf', bbox_inches='tight', \\\n",
    "                        pad_inches=0.1)"
   ]
  },
  {
   "cell_type": "code",
   "execution_count": null,
   "metadata": {
    "collapsed": true
   },
   "outputs": [],
   "source": []
  }
 ],
 "metadata": {
  "anaconda-cloud": {},
  "kernelspec": {
   "display_name": "Python 3",
   "language": "python",
   "name": "python3"
  },
  "language_info": {
   "codemirror_mode": {
    "name": "ipython",
    "version": 3
   },
   "file_extension": ".py",
   "mimetype": "text/x-python",
   "name": "python",
   "nbconvert_exporter": "python",
   "pygments_lexer": "ipython3",
   "version": "3.6.5"
  },
  "latex_envs": {
   "bibliofile": "biblio.bib",
   "cite_by": "apalike",
   "current_citInitial": 1,
   "eqLabelWithNumbers": true,
   "eqNumInitial": 0
  }
 },
 "nbformat": 4,
 "nbformat_minor": 2
}
